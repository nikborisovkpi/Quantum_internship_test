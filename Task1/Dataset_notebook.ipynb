{
 "cells": [
  {
   "cell_type": "code",
   "execution_count": 1,
   "id": "cf9692df",
   "metadata": {},
   "outputs": [],
   "source": [
    "import torch\n",
    "import numpy as np\n",
    "import random"
   ]
  },
  {
   "cell_type": "code",
   "execution_count": 2,
   "id": "14a561db",
   "metadata": {},
   "outputs": [],
   "source": [
    "def generate_synthetic_data(mountains, templates, num_samples=1000, split_ratio=0.8, save_path=None):\n",
    "    texts, labels_list = [], [] # list of label sequences for each text\n",
    "\n",
    "    for _ in range(num_samples):\n",
    "        mountain = random.choice(mountains)\n",
    "        text = random.choice(templates).format(mountain = mountain)\n",
    "        # Simple labeling: 0=O, 1=B-MOUNTAIN\n",
    "        words = text.split()\n",
    "        labels = [\"O\"] * len(words)\n",
    "        for i, word in enumerate(words):\n",
    "            if word.strip('.,!?') == mountain:\n",
    "                labels[i] = \"B-MOUNTAIN\"\n",
    "        texts.append(text)\n",
    "        labels_list.append(labels)\n",
    "\n",
    "    split = int(split_ratio * num_samples)\n",
    "    return texts[:split], labels_list[:split], texts[split:], labels_list[split:]"
   ]
  },
  {
   "cell_type": "code",
   "execution_count": 3,
   "id": "96445a90",
   "metadata": {},
   "outputs": [],
   "source": [
    "# List of mountain names for synthetic data generation\n",
    "mountains = [\n",
    "    \"Everest\", \"K2\", \"Kangchenjunga\", \"Lhotse\", \"Makalu\", \"Dhaulagiri\", \n",
    "    \"Annapurna\", \"Gasherbrum\", \"Shishapangma\", \"Aconcagua\", \"Denali\", \"Eiger\",\n",
    "    \"Elbrus\", \"Vinson\", \"Carstensz\", \"Kosciuszko\", \"Matterhorn\", \"Huascaran\",\n",
    "    \"Fuji\", \"Rainier\", \"McKinley\", \"Logan\", \"Citlaltepetl\", \"Kilimanjaro\",\n",
    "    \"Masherbrum\", \"Rakaposhi\", \"Noshaq\", \"Pobeda\", \"Kongur\", \"Batura\", \n",
    "    \"Korzhenevskaya\", \"Manaslu\", \"Chimborazo\", \"Changtse\", \"Jungfrau\" \n",
    "]"
   ]
  },
  {
   "cell_type": "code",
   "execution_count": 4,
   "id": "4f2929ee",
   "metadata": {},
   "outputs": [],
   "source": [
    "# Generated sentence templates for synthetic data generation\n",
    "sentences_templates = [\n",
    "    \"I successfully summited {mountain} in 2024.\",\n",
    "    \"The expedition to {mountain} was canceled due to bad weather.\",\n",
    "    \"Climbing {mountain} is every mountaineer's dream.\",\n",
    "    \"The view from the top of {mountain} is absolutely breathtaking.\",\n",
    "    \"Many climbers have lost their lives attempting {mountain}.\",\n",
    "    \"I trained for two years to climb {mountain}.\",\n",
    "    \"The south face of {mountain} is considered the most dangerous route.\",\n",
    "    \"We set up base camp at the foot of {mountain}.\",\n",
    "    \"The summit of {mountain} was covered in fresh snow.\",\n",
    "    \"Local guides know the safest paths up {mountain}.\",\n",
    "    \"I carried an oxygen tank above 8000m on {mountain}.\",\n",
    "    \"The weather on {mountain} changes rapidly and unpredictably.\",\n",
    "    \"{mountain} has never been climbed in winter.\",\n",
    "    \"We reached Camp 4 on {mountain} after 12 hours of climbing.\",\n",
    "    \"The Hillary Step on {mountain} is a famous bottleneck.\",\n",
    "    \"Sherpas play a crucial role in expeditions to {mountain}.\",\n",
    "    \"I left a prayer flag at the summit of {mountain}.\",\n",
    "    \"The Khumbu Icefall is the most dangerous section below {mountain}.\",\n",
    "    \"{mountain} is part of the Seven Summits challenge.\",\n",
    "    \"The north ridge of {mountain} remains unclimbed.\",\n",
    "    \"I met legendary climbers at the {mountain} base camp.\",\n",
    "    \"{mountain} casts a long shadow over the surrounding valleys.\",\n",
    "    \"The sunrise from {mountain} is a once-in-a-lifetime experience.\",\n",
    "    \"We used fixed ropes on the steep sections of {mountain}.\",\n",
    "    \"The avalanche risk on {mountain} is extremely high in spring.\",\n",
    "    \"I wrote my name in the summit register of {mountain}.\",\n",
    "    \"The wind at the top of {mountain} was over 100 km/h.\",\n",
    "    \"{mountain} is technically challenging but not extremely high.\",\n",
    "    \"We crossed a crevasse field to reach {mountain}.\",\n",
    "    \"The documentary about climbing {mountain} won an award.\",\n",
    "    \"{mountain} has multiple named routes of varying difficulty.\",\n",
    "    \"I trained on smaller peaks before attempting {mountain}.\",\n",
    "    \"The permit to climb {mountain} costs thousands of dollars.\",\n",
    "    \"{mountain} is visible from hundreds of kilometers away.\",\n",
    "    \"We celebrated with champagne after descending {mountain}.\",\n",
    "    \"The death zone begins at 7500m on {mountain}.\",\n",
    "    \"{mountain} has claimed more lives than any other 8000er.\",\n",
    "    \"I carried a photo of my family to the summit of {mountain}.\",\n",
    "    \"The rock quality on {mountain} is notoriously poor.\",\n",
    "    \"We used crampons and ice axes throughout the climb on {mountain}.\",\n",
    "    \"{mountain} is part of a larger massif with several sub-peaks.\",\n",
    "    \"I felt the effects of altitude sickness above {mountain}'s high camp.\",\n",
    "    \"The local monastery blessed our expedition to {mountain}.\"\n",
    "]"
   ]
  },
  {
   "cell_type": "code",
   "execution_count": null,
   "id": "2f634b42",
   "metadata": {},
   "outputs": [],
   "source": [
    "# Start data generation\n",
    "train_texts, train_labels, val_texts, val_labels = generate_synthetic_data(mountains, sentences_templates)"
   ]
  },
  {
   "cell_type": "code",
   "execution_count": null,
   "id": "3d43ea5d",
   "metadata": {},
   "outputs": [
    {
     "data": {
      "text/plain": [
       "[('Fuji is visible from hundreds of kilometers away.',\n",
       "  ['B-MOUNTAIN', 'O', 'O', 'O', 'O', 'O', 'O', 'O']),\n",
       " ('I wrote my name in the summit register of Elbrus.',\n",
       "  ['O', 'O', 'O', 'O', 'O', 'O', 'O', 'O', 'O', 'B-MOUNTAIN']),\n",
       " ('The wind at the top of K2 was over 100 km/h.',\n",
       "  ['O', 'O', 'O', 'O', 'O', 'O', 'B-MOUNTAIN', 'O', 'O', 'O', 'O']),\n",
       " ('K2 has multiple named routes of varying difficulty.',\n",
       "  ['B-MOUNTAIN', 'O', 'O', 'O', 'O', 'O', 'O', 'O']),\n",
       " ('The wind at the top of Everest was over 100 km/h.',\n",
       "  ['O', 'O', 'O', 'O', 'O', 'O', 'B-MOUNTAIN', 'O', 'O', 'O', 'O'])]"
      ]
     },
     "execution_count": 6,
     "metadata": {},
     "output_type": "execute_result"
    }
   ],
   "source": [
    "# Combine texts and labels into datasets\n",
    "train_data = list(zip(train_texts, train_labels))\n",
    "val_data = list(zip(val_texts, val_labels))\n",
    "\n",
    "train_data[:5]"
   ]
  },
  {
   "cell_type": "code",
   "execution_count": 7,
   "id": "855319f3",
   "metadata": {},
   "outputs": [
    {
     "data": {
      "text/plain": [
       "[('K2 has never been climbed in winter.',\n",
       "  ['B-MOUNTAIN', 'O', 'O', 'O', 'O', 'O', 'O']),\n",
       " ('The summit of Noshaq was covered in fresh snow.',\n",
       "  ['O', 'O', 'O', 'B-MOUNTAIN', 'O', 'O', 'O', 'O', 'O']),\n",
       " ('The summit of Kongur was covered in fresh snow.',\n",
       "  ['O', 'O', 'O', 'B-MOUNTAIN', 'O', 'O', 'O', 'O', 'O']),\n",
       " ('Sherpas play a crucial role in expeditions to Kangchenjunga.',\n",
       "  ['O', 'O', 'O', 'O', 'O', 'O', 'O', 'O', 'B-MOUNTAIN']),\n",
       " ('Local guides know the safest paths up Huascaran.',\n",
       "  ['O', 'O', 'O', 'O', 'O', 'O', 'O', 'B-MOUNTAIN'])]"
      ]
     },
     "execution_count": 7,
     "metadata": {},
     "output_type": "execute_result"
    }
   ],
   "source": [
    "val_data[:5]"
   ]
  },
  {
   "cell_type": "markdown",
   "id": "43eaa505",
   "metadata": {},
   "source": [
    "Create text files for saving dataset:"
   ]
  },
  {
   "cell_type": "code",
   "execution_count": 8,
   "id": "79e1f223",
   "metadata": {},
   "outputs": [],
   "source": [
    "# Function to save synthetic data to a text file\n",
    "def save_synthetic_data(texts, labels_list, save_path=None):\n",
    "    if save_path is not None:\n",
    "        with open(save_path, 'w', encoding='utf-8') as f:\n",
    "            for text, labels in zip(texts, labels_list):\n",
    "                for word, label in zip(text.split(), labels):\n",
    "                    f.write(f\"{word} {label}\\n\")\n",
    "                f.write(\"\\n\")"
   ]
  },
  {
   "cell_type": "code",
   "execution_count": 9,
   "id": "7034bd1c",
   "metadata": {},
   "outputs": [],
   "source": [
    "# Create text file for saving train dataset:\n",
    "save_synthetic_data(train_texts, train_labels, save_path='train_data.txt')\n",
    "save_synthetic_data(val_texts, val_labels, save_path='val_data.txt')"
   ]
  },
  {
   "cell_type": "code",
   "execution_count": 11,
   "id": "a57fa931",
   "metadata": {},
   "outputs": [
    {
     "name": "stdout",
     "output_type": "stream",
     "text": [
      "Fuji B-MOUNTAIN\n",
      "is O\n",
      "visible O\n",
      "from O\n",
      "hundreds O\n",
      "of O\n",
      "kilometers O\n",
      "away. O\n",
      "\n",
      "I O\n",
      "wrote O\n",
      "my O\n",
      "name O\n",
      "in O\n",
      "the O\n",
      "summit O\n",
      "register O\n",
      "of O\n",
      "Elbrus. B-MOUNTAIN\n",
      "\n"
     ]
    }
   ],
   "source": [
    "# Show first 20 lines of the saved file\n",
    "with open('train_data.txt', 'r', encoding='utf-8') as f:\n",
    "    for _ in range(20):\n",
    "        print(f.readline().strip())"
   ]
  }
 ],
 "metadata": {
  "kernelspec": {
   "display_name": "Quantum1",
   "language": "python",
   "name": "python3"
  },
  "language_info": {
   "codemirror_mode": {
    "name": "ipython",
    "version": 3
   },
   "file_extension": ".py",
   "mimetype": "text/x-python",
   "name": "python",
   "nbconvert_exporter": "python",
   "pygments_lexer": "ipython3",
   "version": "3.13.9"
  }
 },
 "nbformat": 4,
 "nbformat_minor": 5
}
